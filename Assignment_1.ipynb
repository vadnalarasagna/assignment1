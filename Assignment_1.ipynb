{
  "nbformat": 4,
  "nbformat_minor": 0,
  "metadata": {
    "colab": {
      "provenance": []
    },
    "kernelspec": {
      "name": "python3",
      "display_name": "Python 3"
    },
    "language_info": {
      "name": "python"
    }
  },
  "cells": [
    {
      "cell_type": "code",
      "execution_count": null,
      "metadata": {
        "colab": {
          "base_uri": "https://localhost:8080/"
        },
        "id": "gR4d_6E7zOnN",
        "outputId": "e03a39aa-28bc-48f4-b94e-37c02884cec0"
      },
      "outputs": [
        {
          "output_type": "stream",
          "name": "stdout",
          "text": [
            "Test Case 1: 0\n",
            "Test Case 2: -1\n",
            "Test Case 3: 0\n",
            "Test Case 4: 4\n"
          ]
        }
      ],
      "source": [
        "class Node:\n",
        "    def __init__(self, data):\n",
        "        self.data = data\n",
        "        self.next = None\n",
        "\n",
        "class LinkedList:\n",
        "    def __init__(self):\n",
        "        self.head = None\n",
        "\n",
        "    def insert_at_end(self, data):\n",
        "        new_node = Node(data)\n",
        "        if self.head is None:\n",
        "            self.head = new_node\n",
        "            return\n",
        "        current = self.head\n",
        "        while current.next:\n",
        "            current = current.next\n",
        "        current.next = new_node\n",
        "\n",
        "def min_idlis_distribution_linkedlist(idlis):\n",
        "    ll = LinkedList()\n",
        "    for idli_count in idlis:\n",
        "        ll.insert_at_end(idli_count)\n",
        "\n",
        "    current = ll.head\n",
        "    total_idlis = sum(idlis)\n",
        "\n",
        "    if total_idlis % 2 != 0:\n",
        "        return -1\n",
        "\n",
        "    min_idlis = 0\n",
        "    while current and current.next:\n",
        "        if current.data % 2 != 0:\n",
        "            current.data += 1\n",
        "            current.next.data += 1\n",
        "            min_idlis += 2\n",
        "        current = current.next\n",
        "\n",
        "    return min_idlis\n",
        "\n",
        "# Test Cases\n",
        "test_cases = [\n",
        "    [2, 4, 6, 8],     # Expected output: 0\n",
        "    [1, 3, 5],        # Expected output: -1\n",
        "    [0, 0, 0, 0],     # Expected output: 0\n",
        "    [1, 1, 1, 1]      # Expected output: 4\n",
        "]\n",
        "\n",
        "for idx, test_case in enumerate(test_cases):\n",
        "    result = min_idlis_distribution_linkedlist(test_case)\n",
        "    print(f\"Test Case {idx + 1}: {result}\")"
      ]
    }
  ]
}